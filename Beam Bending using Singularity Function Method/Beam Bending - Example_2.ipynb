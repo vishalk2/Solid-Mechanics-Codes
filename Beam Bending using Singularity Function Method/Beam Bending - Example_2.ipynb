{
 "cells": [
  {
   "cell_type": "markdown",
   "metadata": {},
   "source": [
    "# Example-2"
   ]
  },
  {
   "cell_type": "markdown",
   "metadata": {},
   "source": [
    "There is a beam of length 30 meters. A moment of magnitude 120 Nm is applied in the counter-clockwise direction at the end of the beam. A point load of magnitude 8 N is applied from the top of the beam at the starting point. There are two simple supports below the beam. One at the end and another one at a distance of 10 meters from the start. The deflection is restricted at both the supports."
   ]
  },
  {
   "attachments": {
    "Screenshot%20%281184%29.png": {
     "image/png": "[encoded data removed]"
    }
   },
   "cell_type": "markdown",
   "metadata": {},
   "source": [
    "![Screenshot%20%281184%29.png](attachment:Screenshot%20%281184%29.png)"
   ]
  },
  {
   "cell_type": "code",
   "execution_count": 29,
   "metadata": {},
   "outputs": [],
   "source": [
    "from sympy import *\n",
    "from sympy.physics.continuum_mechanics.beam import Beam"
   ]
  },
  {
   "cell_type": "code",
   "execution_count": 30,
   "metadata": {},
   "outputs": [],
   "source": [
    "# Symbolizing Unknown Parameters\n",
    "E,I = symbols('E,I')\n",
    "R1,R2 = symbols('R1,R2')"
   ]
  },
  {
   "cell_type": "code",
   "execution_count": 31,
   "metadata": {},
   "outputs": [],
   "source": [
    "# Defining Beam\n",
    "B = Beam(30,E,I)"
   ]
  },
  {
   "cell_type": "code",
   "execution_count": 32,
   "metadata": {},
   "outputs": [],
   "source": [
    "# Applying Loads\n",
    "B.apply_load(-8,0,-1)\n",
    "B.apply_load(-120,30,-2)\n",
    "B.apply_load(R1,10,-1)\n",
    "B.apply_load(R2,30,-1)"
   ]
  },
  {
   "cell_type": "code",
   "execution_count": 33,
   "metadata": {},
   "outputs": [],
   "source": [
    "# Applying Boundary Conditions\n",
    "B.bc_deflection.append((10,0))\n",
    "B.bc_deflection.append((30,0))"
   ]
  },
  {
   "cell_type": "code",
   "execution_count": 34,
   "metadata": {},
   "outputs": [
    {
     "data": {
      "text/plain": [
       "{R1: 18, R2: -10}"
      ]
     },
     "execution_count": 34,
     "metadata": {},
     "output_type": "execute_result"
    }
   ],
   "source": [
    "B.solve_for_reaction_loads(R1,R2)\n",
    "B.reaction_loads"
   ]
  },
  {
   "cell_type": "code",
   "execution_count": 35,
   "metadata": {},
   "outputs": [
    {
     "data": {
      "text/latex": [
       "$\\displaystyle - 8 {\\left\\langle x \\right\\rangle}^{-1} + 18 {\\left\\langle x - 10 \\right\\rangle}^{-1} - 120 {\\left\\langle x - 30 \\right\\rangle}^{-2} - 10 {\\left\\langle x - 30 \\right\\rangle}^{-1}$"
      ],
      "text/plain": [
       "-8*SingularityFunction(x, 0, -1) + 18*SingularityFunction(x, 10, -1) - 120*SingularityFunction(x, 30, -2) - 10*SingularityFunction(x, 30, -1)"
      ]
     },
     "execution_count": 35,
     "metadata": {},
     "output_type": "execute_result"
    }
   ],
   "source": [
    "B.load"
   ]
  },
  {
   "cell_type": "code",
   "execution_count": 36,
   "metadata": {},
   "outputs": [
    {
     "data": {
      "text/latex": [
       "$\\displaystyle 30$"
      ],
      "text/plain": [
       "30"
      ]
     },
     "execution_count": 36,
     "metadata": {},
     "output_type": "execute_result"
    }
   ],
   "source": [
    "B.length"
   ]
  },
  {
   "cell_type": "code",
   "execution_count": 37,
   "metadata": {},
   "outputs": [
    {
     "data": {
      "text/plain": [
       "{'deflection': [(10, 0), (30, 0)], 'slope': []}"
      ]
     },
     "execution_count": 37,
     "metadata": {},
     "output_type": "execute_result"
    }
   ],
   "source": [
    "B.boundary_conditions"
   ]
  },
  {
   "cell_type": "code",
   "execution_count": 38,
   "metadata": {},
   "outputs": [
    {
     "data": {
      "text/latex": [
       "$\\displaystyle - 8 {\\left\\langle x \\right\\rangle}^{0} + 18 {\\left\\langle x - 10 \\right\\rangle}^{0} - 120 {\\left\\langle x - 30 \\right\\rangle}^{-1} - 10 {\\left\\langle x - 30 \\right\\rangle}^{0}$"
      ],
      "text/plain": [
       "-8*SingularityFunction(x, 0, 0) + 18*SingularityFunction(x, 10, 0) - 120*SingularityFunction(x, 30, -1) - 10*SingularityFunction(x, 30, 0)"
      ]
     },
     "execution_count": 38,
     "metadata": {},
     "output_type": "execute_result"
    }
   ],
   "source": [
    "B.shear_force()"
   ]
  },
  {
   "cell_type": "code",
   "execution_count": 39,
   "metadata": {},
   "outputs": [
    {
     "data": {
      "text/latex": [
       "$\\displaystyle - 8 {\\left\\langle x \\right\\rangle}^{1} + 18 {\\left\\langle x - 10 \\right\\rangle}^{1} - 120 {\\left\\langle x - 30 \\right\\rangle}^{0} - 10 {\\left\\langle x - 30 \\right\\rangle}^{1}$"
      ],
      "text/plain": [
       "-8*SingularityFunction(x, 0, 1) + 18*SingularityFunction(x, 10, 1) - 120*SingularityFunction(x, 30, 0) - 10*SingularityFunction(x, 30, 1)"
      ]
     },
     "execution_count": 39,
     "metadata": {},
     "output_type": "execute_result"
    }
   ],
   "source": [
    "B.bending_moment()"
   ]
  },
  {
   "cell_type": "code",
   "execution_count": 40,
   "metadata": {},
   "outputs": [
    {
     "data": {
      "text/latex": [
       "$\\displaystyle \\frac{\\frac{1600 x}{3} - \\frac{4 {\\left\\langle x \\right\\rangle}^{3}}{3} + 3 {\\left\\langle x - 10 \\right\\rangle}^{3} - 60 {\\left\\langle x - 30 \\right\\rangle}^{2} - \\frac{5 {\\left\\langle x - 30 \\right\\rangle}^{3}}{3} - 4000}{E I}$"
      ],
      "text/plain": [
       "(1600*x/3 - 4*SingularityFunction(x, 0, 3)/3 + 3*SingularityFunction(x, 10, 3) - 60*SingularityFunction(x, 30, 2) - 5*SingularityFunction(x, 30, 3)/3 - 4000)/(E*I)"
      ]
     },
     "execution_count": 40,
     "metadata": {},
     "output_type": "execute_result"
    }
   ],
   "source": [
    "B.deflection()"
   ]
  },
  {
   "cell_type": "code",
   "execution_count": 41,
   "metadata": {},
   "outputs": [
    {
     "data": {
      "text/latex": [
       "$\\displaystyle \\frac{- 4 {\\left\\langle x \\right\\rangle}^{2} + 9 {\\left\\langle x - 10 \\right\\rangle}^{2} - 120 {\\left\\langle x - 30 \\right\\rangle}^{1} - 5 {\\left\\langle x - 30 \\right\\rangle}^{2} + \\frac{1600}{3}}{E I}$"
      ],
      "text/plain": [
       "(-4*SingularityFunction(x, 0, 2) + 9*SingularityFunction(x, 10, 2) - 120*SingularityFunction(x, 30, 1) - 5*SingularityFunction(x, 30, 2) + 1600/3)/(E*I)"
      ]
     },
     "execution_count": 41,
     "metadata": {},
     "output_type": "execute_result"
    }
   ],
   "source": [
    "B.slope()"
   ]
  },
  {
   "cell_type": "code",
   "execution_count": 45,
   "metadata": {},
   "outputs": [
    {
     "data": {
      "text/plain": [
       "(Interval(10, 30), 10)"
      ]
     },
     "execution_count": 45,
     "metadata": {},
     "output_type": "execute_result"
    }
   ],
   "source": [
    "B.max_shear_force()"
   ]
  },
  {
   "cell_type": "code",
   "execution_count": 46,
   "metadata": {},
   "outputs": [
    {
     "data": {
      "text/plain": [
       "(30, 120)"
      ]
     },
     "execution_count": 46,
     "metadata": {},
     "output_type": "execute_result"
    }
   ],
   "source": [
    "B.max_bmoment()"
   ]
  },
  {
   "cell_type": "code",
   "execution_count": null,
   "metadata": {},
   "outputs": [],
   "source": []
  }
 ],
 "metadata": {
  "kernelspec": {
   "display_name": "Python 3",
   "language": "python",
   "name": "python3"
  },
  "language_info": {
   "codemirror_mode": {
    "name": "ipython",
    "version": 3
   },
   "file_extension": ".py",
   "mimetype": "text/x-python",
   "name": "python",
   "nbconvert_exporter": "python",
   "pygments_lexer": "ipython3",
   "version": "3.7.6"
  }
 },
 "nbformat": 4,
 "nbformat_minor": 4
}
